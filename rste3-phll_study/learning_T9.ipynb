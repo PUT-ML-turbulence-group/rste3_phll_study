{
 "cells": [
  {
   "cell_type": "markdown",
   "id": "cc6d6425",
   "metadata": {},
   "source": [
    "# Modeling of Pope tensors with e3nn\n",
    "We demonstrate that e3nn can learn operations that are equivalent to preprocessing proposed by Ling et al. in Reynolds averaged turbulence modelling using deep neural networks with embedded invariance - an approach still prevalent in turbulence closure modeling.\n",
    "\n",
    "First, we randomly create tensors, which we will later interpret as S and R tensors."
   ]
  },
  {
   "cell_type": "code",
   "execution_count": 1,
   "id": "d90f542e",
   "metadata": {},
   "outputs": [],
   "source": [
    "import e3nn\n",
    "import torch"
   ]
  },
  {
   "cell_type": "code",
   "execution_count": 2,
   "id": "725a4636",
   "metadata": {},
   "outputs": [],
   "source": [
    "# Create random variables that represent different cases of velocity grad\n",
    "gradU = (torch.rand(90000).reshape(-1, 3, 3)*2)-1\n",
    "# Compute S and R\n",
    "S = (gradU + gradU.transpose(2, 1))/2 # S = (gradU + gradU.T)/2\n",
    "R = (gradU - gradU.transpose(2, 1))/2 # R = (gradU - gradU.T)/2"
   ]
  },
  {
   "cell_type": "markdown",
   "id": "7947c847",
   "metadata": {},
   "source": [
    "For any pair of R and S, we can compute the tensor T9 from Pope et al. as follows."
   ]
  },
  {
   "cell_type": "code",
   "execution_count": 3,
   "id": "e25232a5",
   "metadata": {},
   "outputs": [],
   "source": [
    "# Get T(9) through symbolic computation\n",
    "Ssq = torch.einsum('bij, bjk -> bik', S, S) # b is the batch dimension for the matrix multiplication ij, jk -> ik\n",
    "Rsq = torch.einsum('bij, bjk -> bik', R, R)\n",
    "RsqSsq = torch.einsum('bij, bjk -> bik', Rsq, Ssq)\n",
    "SsqRsq = torch.einsum('bij, bjk -> bik', Ssq, Rsq)\n",
    "trSsqRsq = torch.einsum('bij, bij -> b', SsqRsq, SsqRsq)\n",
    "T9 = RsqSsq + RsqSsq - (torch.eye(3)[None, :, :] * trSsqRsq[:, None, None])"
   ]
  },
  {
   "cell_type": "code",
   "execution_count": 4,
   "id": "6bd2ca01",
   "metadata": {},
   "outputs": [
    {
     "data": {
      "text/plain": [
       "torch.Size([10000, 3, 3])"
      ]
     },
     "execution_count": 4,
     "metadata": {},
     "output_type": "execute_result"
    }
   ],
   "source": [
    "T9.shape"
   ]
  },
  {
   "cell_type": "markdown",
   "id": "71bdc5fe",
   "metadata": {},
   "source": [
    "Notably, the computation of T9 demands all of the operations used for basis tensors: matrix multiplication of tensors, taking trace of a tensor and addition/subtraction.\n",
    "\n",
    "We create a custom e3nn-based architecture with atomic operations that can reflect those operations. Note that every layer in this model has just enough memory to store different stages of computation as shown in fig. 3 of our paper."
   ]
  },
  {
   "cell_type": "code",
   "execution_count": 5,
   "id": "9ab21ba7",
   "metadata": {},
   "outputs": [],
   "source": [
    "# Define the minimal architecture to achieve the same result on cartesian tensors\n",
    "from torch.nn import Module\n",
    "from e3nn.io import CartesianTensor\n",
    "from e3nn import o3\n",
    "\n",
    "class T9Model(Module):\n",
    "    def __init__(self):\n",
    "        super(T9Model, self).__init__()\n",
    "        # CartesianTensor objects are not trainable and will serve for transition between Cartesian and spherical space\n",
    "        self.ct = CartesianTensor('ij') # a class to represent gradU as 1x0e + 1x1e + 1x2e Irrep tensors\n",
    "        self.sct = CartesianTensor('ij=ji') # a class to represent a symmetric tensor as 1x0e + 1x2e\n",
    "        self.act = CartesianTensor('ij=-ji') # a class to represent a skew-symmetric tensor as 1x1e\n",
    "        # We could use two CartesianTensor interfaces to separately transform S and R.\n",
    "        # Instead, we will directly decompose the full velocity gradient tensor gradU into irreps, which is equivalent\n",
    "        # self.ctS = CartesianTensor('ij=ji')\n",
    "        \n",
    "        # We prepare the TensorProduct layers that, in the spherical space, will learn operations homeomorphic to Cartesian matrix multiplication\n",
    "        # We also prepare a Linear layer to handle the summation\n",
    "        self.tp1 = o3.FullyConnectedTensorProduct('0e + 2e', '0e + 2e', '0e + 1e + 2e') # the output irreps are determined by transformation properties of Ssq and Rsq under rotation\n",
    "        self.tp1a = o3.FullyConnectedTensorProduct('1e', '1e', '0e + 1e + 2e')\n",
    "        self.tp2 = o3.FullyConnectedTensorProduct('0e + 1e + 2e', '0e + 1e + 2e', '0e + 1e + 2e')\n",
    "        self.tp2a = o3.FullyConnectedTensorProduct('0e + 1e + 2e', '0e + 1e + 2e', '0e + 1e + 2e')\n",
    "        self.tp3 = o3.FullyConnectedTensorProduct('0e + 1e + 2e', '0e + 1e + 2e', '0e')\n",
    "        self.lin = o3.Linear('0e + 1e + 2e + 0e + 1e + 2e + 0e', '0e + 1e + 2e')\n",
    "        \n",
    "        # The variables below will be filled with cached values to accelerate the forward call - this is just a technicality of e3nn.io.CartesianTensor\n",
    "        self.rtp = None\n",
    "        self.srtp = None\n",
    "        self.artp = None\n",
    "\n",
    "    def configure_optimizers(self):\n",
    "        optimizer = optim.Adam(self.parameters(), lr=self.lr)\n",
    "        return optimizer\n",
    "\n",
    "    def forward(self, x):\n",
    "        if self.rtp is None:\n",
    "            self.rtp = self.ct.reduced_tensor_products(torch.tensor([0., 1., 2.], device=x.device))\n",
    "        if self.srtp is None:\n",
    "            self.srtp = self.sct.reduced_tensor_products(torch.tensor([0., 1., 2.], device=x.device))\n",
    "        if self.artp is None:\n",
    "            self.artp = self.act.reduced_tensor_products(torch.tensor([0., 1., 2.], device=x.device))\n",
    "         \n",
    "        # Transformation from Cartesian space\n",
    "        x_sym = self.sct.from_cartesian(x, rtp=self.srtp) # get S\n",
    "        x_asym = self.act.from_cartesian(x, rtp=self.artp) # get R\n",
    "        #x_spher = self.ct.from_cartesian(x, rtp=self.rtp) This is how we would decompose gradU in a single step\n",
    "        x1 = self.tp1(x_sym, x_sym) # (Train to) compute S^2 (or equivalently descriptive variable)\n",
    "        x1a = self.tp1a(x_asym, x_asym) # (Train to) comput R^2 (or equivalently descriptive variable)\n",
    "        x2 = self.tp2(x1, x1a)\n",
    "        x2a = self.tp2a(x1, x1a)\n",
    "        x2tr = self.tp3(x2, x2a)\n",
    "        out = self.lin(torch.cat([x2, x2a, x2tr], dim=1))\n",
    "        #out = self.lin(x2)\n",
    "        \n",
    "        # Transformation back to Cartesian space\n",
    "        out_cart = self.ct.to_cartesian(out, rtp=self.rtp)\n",
    "        return out_cart"
   ]
  },
  {
   "cell_type": "markdown",
   "id": "447f2b04",
   "metadata": {},
   "source": [
    "We demonstrate that the proposed simplistic architecture can perform the operation equivalent to computation of Pope's 9th tensor, even though the variables are encoded in the spherical space. The two cells below involve training with moderate learning rate, with the first one employing weight decay to sparsify the randomly-initialized parameters of e3nn operations.\n",
    "\n",
    "The architecture we defined contains 49 trainable parameters, yet fits the 10 000 datapoints easily. Ultimately, it shall be validated on the test set of 100 000 datapoints. We argue that the number of examples does not matter, as the network can model the operations used in Pope's preprocessing.\n",
    "\n",
    "Conversely, e3nn-based architectures, as proposed in the paper, can learn operations equivalent to those employed by tensor basis approach, making our proposed model a superset of TBNN. One has to note, however, we did not emphasize exactly matching to Pope's tensor basis: in our main model, e3nn operations are intertwined with nonlinear activation functions. Our approach is more akin to typical design of neural networks: nonlinear activation functions, batch normalization and inference distributed among different neurons make for a more amicable ground for training than symbolic operations devised by Pope."
   ]
  },
  {
   "cell_type": "code",
   "execution_count": 6,
   "id": "1261a820",
   "metadata": {},
   "outputs": [
    {
     "name": "stderr",
     "output_type": "stream",
     "text": [
      "c:\\users\\grzegorzkaszuba\\appdata\\local\\programs\\python\\python38\\lib\\site-packages\\torch\\jit\\_check.py:172: UserWarning: The TorchScript type system doesn't support instance-level annotations on empty non-base types in `__init__`. Instead, either 1) use a type annotation in the class body, or 2) wrap the type in `torch.jit.Attribute`.\n",
      "  warnings.warn(\"The TorchScript type system doesn't support \"\n"
     ]
    },
    {
     "name": "stdout",
     "output_type": "stream",
     "text": [
      "Number of model params: 49\n"
     ]
    },
    {
     "name": "stderr",
     "output_type": "stream",
     "text": [
      "100%|████████████████████████████████████████████████████████████████████████████████| 625/625 [00:25<00:00, 24.05it/s]\n"
     ]
    },
    {
     "name": "stdout",
     "output_type": "stream",
     "text": [
      "Epoch 0; total error: 217.21981811523438, average: 0.34755170345306396\n"
     ]
    },
    {
     "name": "stderr",
     "output_type": "stream",
     "text": [
      "100%|████████████████████████████████████████████████████████████████████████████████| 625/625 [00:24<00:00, 26.01it/s]\n"
     ]
    },
    {
     "name": "stdout",
     "output_type": "stream",
     "text": [
      "Epoch 1; total error: 65.14458465576172, average: 0.1042313352227211\n"
     ]
    },
    {
     "name": "stderr",
     "output_type": "stream",
     "text": [
      "100%|████████████████████████████████████████████████████████████████████████████████| 625/625 [00:21<00:00, 29.32it/s]\n"
     ]
    },
    {
     "name": "stdout",
     "output_type": "stream",
     "text": [
      "Epoch 2; total error: 27.848548889160156, average: 0.04455767944455147\n"
     ]
    },
    {
     "name": "stderr",
     "output_type": "stream",
     "text": [
      "100%|████████████████████████████████████████████████████████████████████████████████| 625/625 [00:08<00:00, 74.46it/s]\n"
     ]
    },
    {
     "name": "stdout",
     "output_type": "stream",
     "text": [
      "Epoch 3; total error: 9.522029876708984, average: 0.015235248021781445\n"
     ]
    },
    {
     "name": "stderr",
     "output_type": "stream",
     "text": [
      "100%|████████████████████████████████████████████████████████████████████████████████| 625/625 [00:08<00:00, 74.00it/s]\n"
     ]
    },
    {
     "name": "stdout",
     "output_type": "stream",
     "text": [
      "Epoch 4; total error: 6.692614555358887, average: 0.01070818305015564\n"
     ]
    },
    {
     "name": "stderr",
     "output_type": "stream",
     "text": [
      "100%|████████████████████████████████████████████████████████████████████████████████| 625/625 [00:08<00:00, 72.27it/s]\n"
     ]
    },
    {
     "name": "stdout",
     "output_type": "stream",
     "text": [
      "Epoch 5; total error: 5.9685516357421875, average: 0.009549682959914207\n"
     ]
    },
    {
     "name": "stderr",
     "output_type": "stream",
     "text": [
      "100%|████████████████████████████████████████████████████████████████████████████████| 625/625 [00:08<00:00, 70.25it/s]\n"
     ]
    },
    {
     "name": "stdout",
     "output_type": "stream",
     "text": [
      "Epoch 6; total error: 5.544824600219727, average: 0.008871719241142273\n"
     ]
    },
    {
     "name": "stderr",
     "output_type": "stream",
     "text": [
      "100%|████████████████████████████████████████████████████████████████████████████████| 625/625 [00:08<00:00, 71.29it/s]\n"
     ]
    },
    {
     "name": "stdout",
     "output_type": "stream",
     "text": [
      "Epoch 7; total error: 5.252945899963379, average: 0.008404713124036789\n"
     ]
    },
    {
     "name": "stderr",
     "output_type": "stream",
     "text": [
      "100%|████████████████████████████████████████████████████████████████████████████████| 625/625 [00:08<00:00, 71.21it/s]\n"
     ]
    },
    {
     "name": "stdout",
     "output_type": "stream",
     "text": [
      "Epoch 8; total error: 5.02335262298584, average: 0.008037364110350609\n"
     ]
    },
    {
     "name": "stderr",
     "output_type": "stream",
     "text": [
      "100%|████████████████████████████████████████████████████████████████████████████████| 625/625 [00:09<00:00, 69.19it/s]\n"
     ]
    },
    {
     "name": "stdout",
     "output_type": "stream",
     "text": [
      "Epoch 9; total error: 4.823119163513184, average: 0.007716990541666746\n"
     ]
    },
    {
     "name": "stderr",
     "output_type": "stream",
     "text": [
      "100%|████████████████████████████████████████████████████████████████████████████████| 625/625 [00:08<00:00, 70.28it/s]\n"
     ]
    },
    {
     "name": "stdout",
     "output_type": "stream",
     "text": [
      "Epoch 10; total error: 4.634026527404785, average: 0.007414442487061024\n"
     ]
    },
    {
     "name": "stderr",
     "output_type": "stream",
     "text": [
      "100%|████████████████████████████████████████████████████████████████████████████████| 625/625 [00:08<00:00, 71.63it/s]\n"
     ]
    },
    {
     "name": "stdout",
     "output_type": "stream",
     "text": [
      "Epoch 11; total error: 4.443302631378174, average: 0.007109284400939941\n"
     ]
    },
    {
     "name": "stderr",
     "output_type": "stream",
     "text": [
      "100%|████████████████████████████████████████████████████████████████████████████████| 625/625 [00:09<00:00, 68.13it/s]\n"
     ]
    },
    {
     "name": "stdout",
     "output_type": "stream",
     "text": [
      "Epoch 12; total error: 4.240302562713623, average: 0.006784484256058931\n"
     ]
    },
    {
     "name": "stderr",
     "output_type": "stream",
     "text": [
      "100%|████████████████████████████████████████████████████████████████████████████████| 625/625 [00:08<00:00, 71.12it/s]\n"
     ]
    },
    {
     "name": "stdout",
     "output_type": "stream",
     "text": [
      "Epoch 13; total error: 4.015425205230713, average: 0.0064246803522109985\n"
     ]
    },
    {
     "name": "stderr",
     "output_type": "stream",
     "text": [
      "100%|████████████████████████████████████████████████████████████████████████████████| 625/625 [00:08<00:00, 71.26it/s]\n"
     ]
    },
    {
     "name": "stdout",
     "output_type": "stream",
     "text": [
      "Epoch 14; total error: 3.7599422931671143, average: 0.006015907507389784\n"
     ]
    },
    {
     "name": "stderr",
     "output_type": "stream",
     "text": [
      "100%|████████████████████████████████████████████████████████████████████████████████| 625/625 [00:08<00:00, 69.58it/s]\n"
     ]
    },
    {
     "name": "stdout",
     "output_type": "stream",
     "text": [
      "Epoch 15; total error: 3.466522455215454, average: 0.005546435713768005\n"
     ]
    },
    {
     "name": "stderr",
     "output_type": "stream",
     "text": [
      "100%|████████████████████████████████████████████████████████████████████████████████| 625/625 [00:08<00:00, 72.21it/s]\n"
     ]
    },
    {
     "name": "stdout",
     "output_type": "stream",
     "text": [
      "Epoch 16; total error: 3.1302218437194824, average: 0.0050083547830581665\n"
     ]
    },
    {
     "name": "stderr",
     "output_type": "stream",
     "text": [
      "100%|████████████████████████████████████████████████████████████████████████████████| 625/625 [00:08<00:00, 69.91it/s]\n"
     ]
    },
    {
     "name": "stdout",
     "output_type": "stream",
     "text": [
      "Epoch 17; total error: 2.7500176429748535, average: 0.004400028381496668\n"
     ]
    },
    {
     "name": "stderr",
     "output_type": "stream",
     "text": [
      "100%|████████████████████████████████████████████████████████████████████████████████| 625/625 [00:08<00:00, 69.78it/s]\n"
     ]
    },
    {
     "name": "stdout",
     "output_type": "stream",
     "text": [
      "Epoch 18; total error: 2.330662965774536, average: 0.003729060757905245\n"
     ]
    },
    {
     "name": "stderr",
     "output_type": "stream",
     "text": [
      "100%|████████████████████████████████████████████████████████████████████████████████| 625/625 [00:08<00:00, 70.55it/s]"
     ]
    },
    {
     "name": "stdout",
     "output_type": "stream",
     "text": [
      "Epoch 19; total error: 1.8846261501312256, average: 0.0030154017731547356\n"
     ]
    },
    {
     "name": "stderr",
     "output_type": "stream",
     "text": [
      "\n"
     ]
    }
   ],
   "source": [
    "from tqdm import tqdm\n",
    "import torch.nn.functional as F\n",
    "from torch.optim import Adam\n",
    "from torch.utils.data import DataLoader, TensorDataset\n",
    "model = T9Model()\n",
    "model.train()\n",
    "loader = DataLoader(TensorDataset(gradU, T9), batch_size=16)\n",
    "optimizer = Adam(model.parameters(), lr=10e-4, weight_decay=1e-7)\n",
    "scheduler = torch.optim.lr_scheduler.StepLR(optimizer, step_size=1, gamma=0.97)\n",
    "epochs = 20\n",
    "device = torch.device('cuda') if torch.cuda.is_available() else torch.device('cpu')\n",
    "\n",
    "print(f'Number of model params: {sum(p.numel() for p in model.parameters())}')\n",
    "for i in range(epochs):\n",
    "    error = 0\n",
    "    steps = 0\n",
    "    for batch in tqdm(loader, total=len(loader)):\n",
    "        x, y = batch\n",
    "        optimizer.zero_grad()\n",
    "        out = model(x)\n",
    "        loss = F.mse_loss(out, y)\n",
    "        loss.backward()\n",
    "        optimizer.step()\n",
    "        error += loss.detach()\n",
    "        steps += 1\n",
    "    print(f'Epoch {i}; total error: {error}, average: {error/steps}')\n",
    "    scheduler.step()"
   ]
  },
  {
   "cell_type": "code",
   "execution_count": 7,
   "id": "cc565857",
   "metadata": {},
   "outputs": [
    {
     "name": "stderr",
     "output_type": "stream",
     "text": [
      "100%|████████████████████████████████████████████████████████████████████████████████| 625/625 [00:08<00:00, 71.21it/s]\n"
     ]
    },
    {
     "name": "stdout",
     "output_type": "stream",
     "text": [
      "Epoch 0; total error: 1.5647218227386475, average: 0.002503554802387953\n"
     ]
    },
    {
     "name": "stderr",
     "output_type": "stream",
     "text": [
      "100%|████████████████████████████████████████████████████████████████████████████████| 625/625 [00:08<00:00, 69.54it/s]\n"
     ]
    },
    {
     "name": "stdout",
     "output_type": "stream",
     "text": [
      "Epoch 1; total error: 1.4653446674346924, average: 0.002344551496207714\n"
     ]
    },
    {
     "name": "stderr",
     "output_type": "stream",
     "text": [
      "100%|████████████████████████████████████████████████████████████████████████████████| 625/625 [00:08<00:00, 69.89it/s]\n"
     ]
    },
    {
     "name": "stdout",
     "output_type": "stream",
     "text": [
      "Epoch 2; total error: 1.3768370151519775, average: 0.0022029392421245575\n"
     ]
    },
    {
     "name": "stderr",
     "output_type": "stream",
     "text": [
      "100%|████████████████████████████████████████████████████████████████████████████████| 625/625 [00:08<00:00, 70.98it/s]\n"
     ]
    },
    {
     "name": "stdout",
     "output_type": "stream",
     "text": [
      "Epoch 3; total error: 1.2898499965667725, average: 0.002063760068267584\n"
     ]
    },
    {
     "name": "stderr",
     "output_type": "stream",
     "text": [
      "100%|████████████████████████████████████████████████████████████████████████████████| 625/625 [00:08<00:00, 70.57it/s]\n"
     ]
    },
    {
     "name": "stdout",
     "output_type": "stream",
     "text": [
      "Epoch 4; total error: 1.203642725944519, average: 0.0019258284009993076\n"
     ]
    },
    {
     "name": "stderr",
     "output_type": "stream",
     "text": [
      "100%|████████████████████████████████████████████████████████████████████████████████| 625/625 [00:08<00:00, 71.13it/s]\n"
     ]
    },
    {
     "name": "stdout",
     "output_type": "stream",
     "text": [
      "Epoch 5; total error: 1.1180906295776367, average: 0.001788945053704083\n"
     ]
    },
    {
     "name": "stderr",
     "output_type": "stream",
     "text": [
      "100%|████████████████████████████████████████████████████████████████████████████████| 625/625 [00:09<00:00, 69.25it/s]\n"
     ]
    },
    {
     "name": "stdout",
     "output_type": "stream",
     "text": [
      "Epoch 6; total error: 1.0332834720611572, average: 0.0016532535664737225\n"
     ]
    },
    {
     "name": "stderr",
     "output_type": "stream",
     "text": [
      "100%|████████████████████████████████████████████████████████████████████████████████| 625/625 [00:08<00:00, 69.90it/s]\n"
     ]
    },
    {
     "name": "stdout",
     "output_type": "stream",
     "text": [
      "Epoch 7; total error: 0.9494291543960571, average: 0.0015190866542980075\n"
     ]
    },
    {
     "name": "stderr",
     "output_type": "stream",
     "text": [
      "100%|████████████████████████████████████████████████████████████████████████████████| 625/625 [00:09<00:00, 69.23it/s]\n"
     ]
    },
    {
     "name": "stdout",
     "output_type": "stream",
     "text": [
      "Epoch 8; total error: 0.86679607629776, average: 0.0013868737732991576\n"
     ]
    },
    {
     "name": "stderr",
     "output_type": "stream",
     "text": [
      "100%|████████████████████████████████████████████████████████████████████████████████| 625/625 [00:08<00:00, 70.82it/s]\n"
     ]
    },
    {
     "name": "stdout",
     "output_type": "stream",
     "text": [
      "Epoch 9; total error: 0.7857008576393127, average: 0.00125712133012712\n"
     ]
    },
    {
     "name": "stderr",
     "output_type": "stream",
     "text": [
      "100%|████████████████████████████████████████████████████████████████████████████████| 625/625 [00:08<00:00, 70.50it/s]\n"
     ]
    },
    {
     "name": "stdout",
     "output_type": "stream",
     "text": [
      "Epoch 10; total error: 0.7065061926841736, average: 0.0011304098879918456\n"
     ]
    },
    {
     "name": "stderr",
     "output_type": "stream",
     "text": [
      "100%|████████████████████████████████████████████████████████████████████████████████| 625/625 [00:08<00:00, 71.76it/s]\n"
     ]
    },
    {
     "name": "stdout",
     "output_type": "stream",
     "text": [
      "Epoch 11; total error: 0.6296116709709167, average: 0.001007378683425486\n"
     ]
    },
    {
     "name": "stderr",
     "output_type": "stream",
     "text": [
      "100%|████████████████████████████████████████████████████████████████████████████████| 625/625 [00:08<00:00, 70.65it/s]\n"
     ]
    },
    {
     "name": "stdout",
     "output_type": "stream",
     "text": [
      "Epoch 12; total error: 0.5554447770118713, average: 0.0008887116564437747\n"
     ]
    },
    {
     "name": "stderr",
     "output_type": "stream",
     "text": [
      "100%|████████████████████████████████████████████████████████████████████████████████| 625/625 [00:08<00:00, 71.64it/s]\n"
     ]
    },
    {
     "name": "stdout",
     "output_type": "stream",
     "text": [
      "Epoch 13; total error: 0.48446354269981384, average: 0.000775141641497612\n"
     ]
    },
    {
     "name": "stderr",
     "output_type": "stream",
     "text": [
      "100%|████████████████████████████████████████████████████████████████████████████████| 625/625 [00:08<00:00, 70.02it/s]\n"
     ]
    },
    {
     "name": "stdout",
     "output_type": "stream",
     "text": [
      "Epoch 14; total error: 0.4171470105648041, average: 0.0006674352334812284\n"
     ]
    },
    {
     "name": "stderr",
     "output_type": "stream",
     "text": [
      "100%|████████████████████████████████████████████████████████████████████████████████| 625/625 [00:09<00:00, 68.98it/s]\n"
     ]
    },
    {
     "name": "stdout",
     "output_type": "stream",
     "text": [
      "Epoch 15; total error: 0.35398367047309875, average: 0.0005663738702423871\n"
     ]
    },
    {
     "name": "stderr",
     "output_type": "stream",
     "text": [
      "100%|████████████████████████████████████████████████████████████████████████████████| 625/625 [00:08<00:00, 70.13it/s]\n"
     ]
    },
    {
     "name": "stdout",
     "output_type": "stream",
     "text": [
      "Epoch 16; total error: 0.2954530417919159, average: 0.0004727248742710799\n"
     ]
    },
    {
     "name": "stderr",
     "output_type": "stream",
     "text": [
      "100%|████████████████████████████████████████████████████████████████████████████████| 625/625 [00:08<00:00, 70.18it/s]\n"
     ]
    },
    {
     "name": "stdout",
     "output_type": "stream",
     "text": [
      "Epoch 17; total error: 0.2420281022787094, average: 0.0003872449742630124\n"
     ]
    },
    {
     "name": "stderr",
     "output_type": "stream",
     "text": [
      "100%|████████████████████████████████████████████████████████████████████████████████| 625/625 [00:08<00:00, 70.02it/s]\n"
     ]
    },
    {
     "name": "stdout",
     "output_type": "stream",
     "text": [
      "Epoch 18; total error: 0.19412460923194885, average: 0.0003105993673671037\n"
     ]
    },
    {
     "name": "stderr",
     "output_type": "stream",
     "text": [
      "100%|████████████████████████████████████████████████████████████████████████████████| 625/625 [00:08<00:00, 71.46it/s]\n"
     ]
    },
    {
     "name": "stdout",
     "output_type": "stream",
     "text": [
      "Epoch 19; total error: 0.15209147334098816, average: 0.00024334635236300528\n"
     ]
    },
    {
     "name": "stderr",
     "output_type": "stream",
     "text": [
      "100%|████████████████████████████████████████████████████████████████████████████████| 625/625 [00:08<00:00, 71.16it/s]\n"
     ]
    },
    {
     "name": "stdout",
     "output_type": "stream",
     "text": [
      "Epoch 20; total error: 0.11616438627243042, average: 0.00018586301303002983\n"
     ]
    },
    {
     "name": "stderr",
     "output_type": "stream",
     "text": [
      "100%|████████████████████████████████████████████████████████████████████████████████| 625/625 [00:09<00:00, 68.11it/s]\n"
     ]
    },
    {
     "name": "stdout",
     "output_type": "stream",
     "text": [
      "Epoch 21; total error: 0.0864189863204956, average: 0.00013827037764713168\n"
     ]
    },
    {
     "name": "stderr",
     "output_type": "stream",
     "text": [
      "100%|████████████████████████████████████████████████████████████████████████████████| 625/625 [00:08<00:00, 70.03it/s]\n"
     ]
    },
    {
     "name": "stdout",
     "output_type": "stream",
     "text": [
      "Epoch 22; total error: 0.06271977722644806, average: 0.000100351644505281\n"
     ]
    },
    {
     "name": "stderr",
     "output_type": "stream",
     "text": [
      "100%|████████████████████████████████████████████████████████████████████████████████| 625/625 [00:08<00:00, 69.82it/s]\n"
     ]
    },
    {
     "name": "stdout",
     "output_type": "stream",
     "text": [
      "Epoch 23; total error: 0.044686466455459595, average: 7.149834709707648e-05\n"
     ]
    },
    {
     "name": "stderr",
     "output_type": "stream",
     "text": [
      "100%|████████████████████████████████████████████████████████████████████████████████| 625/625 [00:08<00:00, 71.81it/s]\n"
     ]
    },
    {
     "name": "stdout",
     "output_type": "stream",
     "text": [
      "Epoch 24; total error: 0.031665388494729996, average: 5.066462108516134e-05\n"
     ]
    },
    {
     "name": "stderr",
     "output_type": "stream",
     "text": [
      "100%|████████████████████████████████████████████████████████████████████████████████| 625/625 [00:08<00:00, 69.56it/s]\n"
     ]
    },
    {
     "name": "stdout",
     "output_type": "stream",
     "text": [
      "Epoch 25; total error: 0.02276994287967682, average: 3.643190939328633e-05\n"
     ]
    },
    {
     "name": "stderr",
     "output_type": "stream",
     "text": [
      "100%|████████████████████████████████████████████████████████████████████████████████| 625/625 [00:08<00:00, 70.92it/s]\n"
     ]
    },
    {
     "name": "stdout",
     "output_type": "stream",
     "text": [
      "Epoch 26; total error: 0.01698444038629532, average: 2.7175105060450733e-05\n"
     ]
    },
    {
     "name": "stderr",
     "output_type": "stream",
     "text": [
      "100%|████████████████████████████████████████████████████████████████████████████████| 625/625 [00:08<00:00, 70.47it/s]\n"
     ]
    },
    {
     "name": "stdout",
     "output_type": "stream",
     "text": [
      "Epoch 27; total error: 0.013325301930308342, average: 2.1320483938325197e-05\n"
     ]
    },
    {
     "name": "stderr",
     "output_type": "stream",
     "text": [
      "100%|████████████████████████████████████████████████████████████████████████████████| 625/625 [00:08<00:00, 70.03it/s]\n"
     ]
    },
    {
     "name": "stdout",
     "output_type": "stream",
     "text": [
      "Epoch 28; total error: 0.010982010513544083, average: 1.7571217540535145e-05\n"
     ]
    },
    {
     "name": "stderr",
     "output_type": "stream",
     "text": [
      "100%|████████████████████████████████████████████████████████████████████████████████| 625/625 [00:08<00:00, 70.52it/s]\n"
     ]
    },
    {
     "name": "stdout",
     "output_type": "stream",
     "text": [
      "Epoch 29; total error: 0.009381860494613647, average: 1.5010977222118527e-05\n"
     ]
    },
    {
     "name": "stderr",
     "output_type": "stream",
     "text": [
      "100%|████████████████████████████████████████████████████████████████████████████████| 625/625 [00:09<00:00, 66.42it/s]\n"
     ]
    },
    {
     "name": "stdout",
     "output_type": "stream",
     "text": [
      "Epoch 30; total error: 0.008173348382115364, average: 1.3077357834845316e-05\n"
     ]
    },
    {
     "name": "stderr",
     "output_type": "stream",
     "text": [
      "100%|████████████████████████████████████████████████████████████████████████████████| 625/625 [00:08<00:00, 69.86it/s]\n"
     ]
    },
    {
     "name": "stdout",
     "output_type": "stream",
     "text": [
      "Epoch 31; total error: 0.007172274403274059, average: 1.1475639439595398e-05\n"
     ]
    },
    {
     "name": "stderr",
     "output_type": "stream",
     "text": [
      "100%|████████████████████████████████████████████████████████████████████████████████| 625/625 [00:08<00:00, 70.30it/s]\n"
     ]
    },
    {
     "name": "stdout",
     "output_type": "stream",
     "text": [
      "Epoch 32; total error: 0.006298263091593981, average: 1.0077221304527484e-05\n"
     ]
    },
    {
     "name": "stderr",
     "output_type": "stream",
     "text": [
      "100%|████████████████████████████████████████████████████████████████████████████████| 625/625 [00:08<00:00, 69.47it/s]\n"
     ]
    },
    {
     "name": "stdout",
     "output_type": "stream",
     "text": [
      "Epoch 33; total error: 0.005521154962480068, average: 8.833848369249608e-06\n"
     ]
    },
    {
     "name": "stderr",
     "output_type": "stream",
     "text": [
      "100%|████████████████████████████████████████████████████████████████████████████████| 625/625 [00:08<00:00, 70.50it/s]\n"
     ]
    },
    {
     "name": "stdout",
     "output_type": "stream",
     "text": [
      "Epoch 34; total error: 0.004828622564673424, average: 7.725796422164422e-06\n"
     ]
    },
    {
     "name": "stderr",
     "output_type": "stream",
     "text": [
      "100%|████████████████████████████████████████████████████████████████████████████████| 625/625 [00:09<00:00, 69.11it/s]\n"
     ]
    },
    {
     "name": "stdout",
     "output_type": "stream",
     "text": [
      "Epoch 35; total error: 0.004211737774312496, average: 6.738780484738527e-06\n"
     ]
    },
    {
     "name": "stderr",
     "output_type": "stream",
     "text": [
      "100%|████████████████████████████████████████████████████████████████████████████████| 625/625 [00:09<00:00, 68.57it/s]\n"
     ]
    },
    {
     "name": "stdout",
     "output_type": "stream",
     "text": [
      "Epoch 36; total error: 0.0036618246231228113, average: 5.858919394086115e-06\n"
     ]
    },
    {
     "name": "stderr",
     "output_type": "stream",
     "text": [
      "100%|████████████████████████████████████████████████████████████████████████████████| 625/625 [00:08<00:00, 69.91it/s]\n"
     ]
    },
    {
     "name": "stdout",
     "output_type": "stream",
     "text": [
      "Epoch 37; total error: 0.0031702746637165546, average: 5.072439307696186e-06\n"
     ]
    },
    {
     "name": "stderr",
     "output_type": "stream",
     "text": [
      "100%|████████████████████████████████████████████████████████████████████████████████| 625/625 [00:08<00:00, 70.64it/s]\n"
     ]
    },
    {
     "name": "stdout",
     "output_type": "stream",
     "text": [
      "Epoch 38; total error: 0.0027297409251332283, average: 4.3675854612956755e-06\n"
     ]
    },
    {
     "name": "stderr",
     "output_type": "stream",
     "text": [
      "100%|████████████████████████████████████████████████████████████████████████████████| 625/625 [00:08<00:00, 70.37it/s]\n"
     ]
    },
    {
     "name": "stdout",
     "output_type": "stream",
     "text": [
      "Epoch 39; total error: 0.0023343164939433336, average: 3.7349063859437592e-06\n"
     ]
    },
    {
     "name": "stderr",
     "output_type": "stream",
     "text": [
      "100%|████████████████████████████████████████████████████████████████████████████████| 625/625 [00:08<00:00, 71.03it/s]\n"
     ]
    },
    {
     "name": "stdout",
     "output_type": "stream",
     "text": [
      "Epoch 40; total error: 0.001979157095775008, average: 3.1666513677919284e-06\n"
     ]
    },
    {
     "name": "stderr",
     "output_type": "stream",
     "text": [
      "100%|████████████████████████████████████████████████████████████████████████████████| 625/625 [00:08<00:00, 69.57it/s]\n"
     ]
    },
    {
     "name": "stdout",
     "output_type": "stream",
     "text": [
      "Epoch 41; total error: 0.0016609224257990718, average: 2.6574759885988897e-06\n"
     ]
    },
    {
     "name": "stderr",
     "output_type": "stream",
     "text": [
      "100%|████████████████████████████████████████████████████████████████████████████████| 625/625 [00:08<00:00, 70.74it/s]\n"
     ]
    },
    {
     "name": "stdout",
     "output_type": "stream",
     "text": [
      "Epoch 42; total error: 0.0013767621712759137, average: 2.202819587182603e-06\n"
     ]
    },
    {
     "name": "stderr",
     "output_type": "stream",
     "text": [
      "100%|████████████████████████████████████████████████████████████████████████████████| 625/625 [00:09<00:00, 69.28it/s]\n"
     ]
    },
    {
     "name": "stdout",
     "output_type": "stream",
     "text": [
      "Epoch 43; total error: 0.0011248053051531315, average: 1.7996884480453446e-06\n"
     ]
    },
    {
     "name": "stderr",
     "output_type": "stream",
     "text": [
      "100%|████████████████████████████████████████████████████████████████████████████████| 625/625 [00:08<00:00, 70.45it/s]\n"
     ]
    },
    {
     "name": "stdout",
     "output_type": "stream",
     "text": [
      "Epoch 44; total error: 0.0009033898240886629, average: 1.4454236634264817e-06\n"
     ]
    },
    {
     "name": "stderr",
     "output_type": "stream",
     "text": [
      "100%|████████████████████████████████████████████████████████████████████████████████| 625/625 [00:08<00:00, 69.78it/s]\n"
     ]
    },
    {
     "name": "stdout",
     "output_type": "stream",
     "text": [
      "Epoch 45; total error: 0.0007115166517905891, average: 1.1384266827008105e-06\n"
     ]
    },
    {
     "name": "stderr",
     "output_type": "stream",
     "text": [
      "100%|████████████████████████████████████████████████████████████████████████████████| 625/625 [00:09<00:00, 69.36it/s]\n"
     ]
    },
    {
     "name": "stdout",
     "output_type": "stream",
     "text": [
      "Epoch 46; total error: 0.0005479436949826777, average: 8.76709918884444e-07\n"
     ]
    },
    {
     "name": "stderr",
     "output_type": "stream",
     "text": [
      "100%|████████████████████████████████████████████████████████████████████████████████| 625/625 [00:08<00:00, 70.14it/s]\n"
     ]
    },
    {
     "name": "stdout",
     "output_type": "stream",
     "text": [
      "Epoch 47; total error: 0.0004113060131203383, average: 6.580896183550067e-07\n"
     ]
    },
    {
     "name": "stderr",
     "output_type": "stream",
     "text": [
      "100%|████████████████████████████████████████████████████████████████████████████████| 625/625 [00:08<00:00, 70.20it/s]\n"
     ]
    },
    {
     "name": "stdout",
     "output_type": "stream",
     "text": [
      "Epoch 48; total error: 0.0002998184063471854, average: 4.797094561581616e-07\n"
     ]
    },
    {
     "name": "stderr",
     "output_type": "stream",
     "text": [
      "100%|████████████████████████████████████████████████████████████████████████████████| 625/625 [00:08<00:00, 70.69it/s]\n"
     ]
    },
    {
     "name": "stdout",
     "output_type": "stream",
     "text": [
      "Epoch 49; total error: 0.00021118226868566126, average: 3.378916346719052e-07\n"
     ]
    },
    {
     "name": "stderr",
     "output_type": "stream",
     "text": [
      "100%|████████████████████████████████████████████████████████████████████████████████| 625/625 [00:08<00:00, 69.90it/s]\n"
     ]
    },
    {
     "name": "stdout",
     "output_type": "stream",
     "text": [
      "Epoch 50; total error: 0.0001424491492798552, average: 2.2791863329985063e-07\n"
     ]
    },
    {
     "name": "stderr",
     "output_type": "stream",
     "text": [
      "100%|████████████████████████████████████████████████████████████████████████████████| 625/625 [00:08<00:00, 70.74it/s]\n"
     ]
    },
    {
     "name": "stdout",
     "output_type": "stream",
     "text": [
      "Epoch 51; total error: 9.038710413733497e-05, average: 1.4461936359566607e-07\n"
     ]
    },
    {
     "name": "stderr",
     "output_type": "stream",
     "text": [
      "100%|████████████████████████████████████████████████████████████████████████████████| 625/625 [00:08<00:00, 69.99it/s]\n"
     ]
    },
    {
     "name": "stdout",
     "output_type": "stream",
     "text": [
      "Epoch 52; total error: 5.284218423184939e-05, average: 8.454749433894904e-08\n"
     ]
    },
    {
     "name": "stderr",
     "output_type": "stream",
     "text": [
      "100%|████████████████████████████████████████████████████████████████████████████████| 625/625 [00:08<00:00, 70.42it/s]\n"
     ]
    },
    {
     "name": "stdout",
     "output_type": "stream",
     "text": [
      "Epoch 53; total error: 2.7719184799934737e-05, average: 4.43506955605244e-08\n"
     ]
    },
    {
     "name": "stderr",
     "output_type": "stream",
     "text": [
      "100%|████████████████████████████████████████████████████████████████████████████████| 625/625 [00:09<00:00, 69.18it/s]\n"
     ]
    },
    {
     "name": "stdout",
     "output_type": "stream",
     "text": [
      "Epoch 54; total error: 1.2298241927055642e-05, average: 1.967718787909689e-08\n"
     ]
    },
    {
     "name": "stderr",
     "output_type": "stream",
     "text": [
      "100%|████████████████████████████████████████████████████████████████████████████████| 625/625 [00:08<00:00, 71.90it/s]\n"
     ]
    },
    {
     "name": "stdout",
     "output_type": "stream",
     "text": [
      "Epoch 55; total error: 6.606576334888814e-06, average: 1.0570522235298085e-08\n"
     ]
    },
    {
     "name": "stderr",
     "output_type": "stream",
     "text": [
      "100%|████████████████████████████████████████████████████████████████████████████████| 625/625 [00:08<00:00, 70.41it/s]\n"
     ]
    },
    {
     "name": "stdout",
     "output_type": "stream",
     "text": [
      "Epoch 56; total error: 1.9581029846449383e-06, average: 3.1329647764977153e-09\n"
     ]
    },
    {
     "name": "stderr",
     "output_type": "stream",
     "text": [
      "100%|████████████████████████████████████████████████████████████████████████████████| 625/625 [00:08<00:00, 70.93it/s]\n"
     ]
    },
    {
     "name": "stdout",
     "output_type": "stream",
     "text": [
      "Epoch 57; total error: 1.1888087101397105e-06, average: 1.902094037831148e-09\n"
     ]
    },
    {
     "name": "stderr",
     "output_type": "stream",
     "text": [
      "100%|████████████████████████████████████████████████████████████████████████████████| 625/625 [00:08<00:00, 70.88it/s]\n"
     ]
    },
    {
     "name": "stdout",
     "output_type": "stream",
     "text": [
      "Epoch 58; total error: 2.9502270990633406e-06, average: 4.720363211418999e-09\n"
     ]
    },
    {
     "name": "stderr",
     "output_type": "stream",
     "text": [
      "100%|████████████████████████████████████████████████████████████████████████████████| 625/625 [00:08<00:00, 70.49it/s]\n"
     ]
    },
    {
     "name": "stdout",
     "output_type": "stream",
     "text": [
      "Epoch 59; total error: 1.1016543794539757e-05, average: 1.7626470949494433e-08\n"
     ]
    },
    {
     "name": "stderr",
     "output_type": "stream",
     "text": [
      "100%|████████████████████████████████████████████████████████████████████████████████| 625/625 [00:08<00:00, 70.02it/s]\n"
     ]
    },
    {
     "name": "stdout",
     "output_type": "stream",
     "text": [
      "Epoch 60; total error: 2.0335048134256795e-07, average: 3.253607661068969e-10\n"
     ]
    },
    {
     "name": "stderr",
     "output_type": "stream",
     "text": [
      "100%|████████████████████████████████████████████████████████████████████████████████| 625/625 [00:08<00:00, 69.63it/s]\n"
     ]
    },
    {
     "name": "stdout",
     "output_type": "stream",
     "text": [
      "Epoch 61; total error: 9.364626748720184e-06, average: 1.498340296279821e-08\n"
     ]
    },
    {
     "name": "stderr",
     "output_type": "stream",
     "text": [
      "100%|████████████████████████████████████████████████████████████████████████████████| 625/625 [00:08<00:00, 69.47it/s]\n"
     ]
    },
    {
     "name": "stdout",
     "output_type": "stream",
     "text": [
      "Epoch 62; total error: 1.1118609108962119e-05, average: 1.7789774986454177e-08\n"
     ]
    },
    {
     "name": "stderr",
     "output_type": "stream",
     "text": [
      "100%|████████████████████████████████████████████████████████████████████████████████| 625/625 [00:08<00:00, 70.16it/s]\n"
     ]
    },
    {
     "name": "stdout",
     "output_type": "stream",
     "text": [
      "Epoch 63; total error: 6.547182692884235e-06, average: 1.047549247346069e-08\n"
     ]
    },
    {
     "name": "stderr",
     "output_type": "stream",
     "text": [
      "100%|████████████████████████████████████████████████████████████████████████████████| 625/625 [00:09<00:00, 69.20it/s]\n"
     ]
    },
    {
     "name": "stdout",
     "output_type": "stream",
     "text": [
      "Epoch 64; total error: 3.303886842331849e-06, average: 5.286219018074689e-09\n"
     ]
    },
    {
     "name": "stderr",
     "output_type": "stream",
     "text": [
      "100%|████████████████████████████████████████████████████████████████████████████████| 625/625 [00:08<00:00, 71.77it/s]\n"
     ]
    },
    {
     "name": "stdout",
     "output_type": "stream",
     "text": [
      "Epoch 65; total error: 1.2303614767006366e-06, average: 1.968578411393196e-09\n"
     ]
    },
    {
     "name": "stderr",
     "output_type": "stream",
     "text": [
      "100%|████████████████████████████████████████████████████████████████████████████████| 625/625 [00:08<00:00, 69.62it/s]\n"
     ]
    },
    {
     "name": "stdout",
     "output_type": "stream",
     "text": [
      "Epoch 66; total error: 1.9973484086222015e-05, average: 3.1957576140939636e-08\n"
     ]
    },
    {
     "name": "stderr",
     "output_type": "stream",
     "text": [
      "100%|████████████████████████████████████████████████████████████████████████████████| 625/625 [00:08<00:00, 70.59it/s]\n"
     ]
    },
    {
     "name": "stdout",
     "output_type": "stream",
     "text": [
      "Epoch 67; total error: 1.2725233489163656e-07, average: 2.0360373109706842e-10\n"
     ]
    },
    {
     "name": "stderr",
     "output_type": "stream",
     "text": [
      "100%|████████████████████████████████████████████████████████████████████████████████| 625/625 [00:08<00:00, 69.93it/s]\n"
     ]
    },
    {
     "name": "stdout",
     "output_type": "stream",
     "text": [
      "Epoch 68; total error: 9.91241086012451e-06, average: 1.5859857427358293e-08\n"
     ]
    },
    {
     "name": "stderr",
     "output_type": "stream",
     "text": [
      "100%|████████████████████████████████████████████████████████████████████████████████| 625/625 [00:08<00:00, 70.91it/s]\n"
     ]
    },
    {
     "name": "stdout",
     "output_type": "stream",
     "text": [
      "Epoch 69; total error: 9.157039130514022e-06, average: 1.465126242550241e-08\n"
     ]
    },
    {
     "name": "stderr",
     "output_type": "stream",
     "text": [
      "100%|████████████████████████████████████████████████████████████████████████████████| 625/625 [00:08<00:00, 69.99it/s]\n"
     ]
    },
    {
     "name": "stdout",
     "output_type": "stream",
     "text": [
      "Epoch 70; total error: 6.877798455207085e-07, average: 1.100447732937937e-09\n"
     ]
    },
    {
     "name": "stderr",
     "output_type": "stream",
     "text": [
      "100%|████████████████████████████████████████████████████████████████████████████████| 625/625 [00:09<00:00, 69.09it/s]\n"
     ]
    },
    {
     "name": "stdout",
     "output_type": "stream",
     "text": [
      "Epoch 71; total error: 8.691300536156632e-06, average: 1.3906080731374004e-08\n"
     ]
    },
    {
     "name": "stderr",
     "output_type": "stream",
     "text": [
      "100%|████████████████████████████████████████████████████████████████████████████████| 625/625 [00:09<00:00, 69.14it/s]\n"
     ]
    },
    {
     "name": "stdout",
     "output_type": "stream",
     "text": [
      "Epoch 72; total error: 3.310824922664324e-06, average: 5.297319916053311e-09\n"
     ]
    },
    {
     "name": "stderr",
     "output_type": "stream",
     "text": [
      "100%|████████████████████████████████████████████████████████████████████████████████| 625/625 [00:08<00:00, 70.01it/s]\n"
     ]
    },
    {
     "name": "stdout",
     "output_type": "stream",
     "text": [
      "Epoch 73; total error: 8.496232112520374e-06, average: 1.3593971281977701e-08\n"
     ]
    },
    {
     "name": "stderr",
     "output_type": "stream",
     "text": [
      "100%|████████████████████████████████████████████████████████████████████████████████| 625/625 [00:08<00:00, 72.58it/s]\n"
     ]
    },
    {
     "name": "stdout",
     "output_type": "stream",
     "text": [
      "Epoch 74; total error: 5.7972515605797525e-06, average: 9.275602508296288e-09\n"
     ]
    },
    {
     "name": "stderr",
     "output_type": "stream",
     "text": [
      "100%|████████████████████████████████████████████████████████████████████████████████| 625/625 [00:09<00:00, 69.04it/s]\n"
     ]
    },
    {
     "name": "stdout",
     "output_type": "stream",
     "text": [
      "Epoch 75; total error: 8.82750373421004e-06, average: 1.4124005964788466e-08\n"
     ]
    },
    {
     "name": "stderr",
     "output_type": "stream",
     "text": [
      "100%|████████████████████████████████████████████████████████████████████████████████| 625/625 [00:09<00:00, 68.45it/s]\n"
     ]
    },
    {
     "name": "stdout",
     "output_type": "stream",
     "text": [
      "Epoch 76; total error: 9.423144547326956e-06, average: 1.5077031179089317e-08\n"
     ]
    },
    {
     "name": "stderr",
     "output_type": "stream",
     "text": [
      "100%|████████████████████████████████████████████████████████████████████████████████| 625/625 [00:09<00:00, 69.40it/s]\n"
     ]
    },
    {
     "name": "stdout",
     "output_type": "stream",
     "text": [
      "Epoch 77; total error: 7.0979801591875e-08, average: 1.1356768303549813e-10\n"
     ]
    },
    {
     "name": "stderr",
     "output_type": "stream",
     "text": [
      "100%|████████████████████████████████████████████████████████████████████████████████| 625/625 [00:08<00:00, 71.30it/s]\n"
     ]
    },
    {
     "name": "stdout",
     "output_type": "stream",
     "text": [
      "Epoch 78; total error: 9.182195753965061e-06, average: 1.469151289512638e-08\n"
     ]
    },
    {
     "name": "stderr",
     "output_type": "stream",
     "text": [
      "100%|████████████████████████████████████████████████████████████████████████████████| 625/625 [00:09<00:00, 68.48it/s]\n"
     ]
    },
    {
     "name": "stdout",
     "output_type": "stream",
     "text": [
      "Epoch 79; total error: 1.128370513470145e-05, average: 1.805392813025719e-08\n"
     ]
    },
    {
     "name": "stderr",
     "output_type": "stream",
     "text": [
      "100%|████████████████████████████████████████████████████████████████████████████████| 625/625 [00:08<00:00, 70.72it/s]\n"
     ]
    },
    {
     "name": "stdout",
     "output_type": "stream",
     "text": [
      "Epoch 80; total error: 1.6924138890317408e-06, average: 2.7078621567255823e-09\n"
     ]
    },
    {
     "name": "stderr",
     "output_type": "stream",
     "text": [
      "100%|████████████████████████████████████████████████████████████████████████████████| 625/625 [00:08<00:00, 69.92it/s]\n"
     ]
    },
    {
     "name": "stdout",
     "output_type": "stream",
     "text": [
      "Epoch 81; total error: 1.688497832219582e-05, average: 2.7015964576548868e-08\n"
     ]
    },
    {
     "name": "stderr",
     "output_type": "stream",
     "text": [
      "100%|████████████████████████████████████████████████████████████████████████████████| 625/625 [00:08<00:00, 70.40it/s]\n"
     ]
    },
    {
     "name": "stdout",
     "output_type": "stream",
     "text": [
      "Epoch 82; total error: 3.146580596080639e-08, average: 5.034529043657088e-11\n"
     ]
    },
    {
     "name": "stderr",
     "output_type": "stream",
     "text": [
      "100%|████████████████████████████████████████████████████████████████████████████████| 625/625 [00:08<00:00, 70.17it/s]\n"
     ]
    },
    {
     "name": "stdout",
     "output_type": "stream",
     "text": [
      "Epoch 83; total error: 1.287756094825454e-05, average: 2.06040979833233e-08\n"
     ]
    },
    {
     "name": "stderr",
     "output_type": "stream",
     "text": [
      "100%|████████████████████████████████████████████████████████████████████████████████| 625/625 [00:08<00:00, 69.90it/s]\n"
     ]
    },
    {
     "name": "stdout",
     "output_type": "stream",
     "text": [
      "Epoch 84; total error: 4.5427941586240195e-06, average: 7.268470714194564e-09\n"
     ]
    },
    {
     "name": "stderr",
     "output_type": "stream",
     "text": [
      "100%|████████████████████████████████████████████████████████████████████████████████| 625/625 [00:08<00:00, 71.53it/s]\n"
     ]
    },
    {
     "name": "stdout",
     "output_type": "stream",
     "text": [
      "Epoch 85; total error: 7.514837307098787e-06, average: 1.2023739337507777e-08\n"
     ]
    },
    {
     "name": "stderr",
     "output_type": "stream",
     "text": [
      "100%|████████████████████████████████████████████████████████████████████████████████| 625/625 [00:08<00:00, 70.47it/s]\n"
     ]
    },
    {
     "name": "stdout",
     "output_type": "stream",
     "text": [
      "Epoch 86; total error: 8.014973900571931e-06, average: 1.282395789559132e-08\n"
     ]
    },
    {
     "name": "stderr",
     "output_type": "stream",
     "text": [
      "100%|████████████████████████████████████████████████████████████████████████████████| 625/625 [00:08<00:00, 71.34it/s]\n"
     ]
    },
    {
     "name": "stdout",
     "output_type": "stream",
     "text": [
      "Epoch 87; total error: 3.671100898827717e-07, average: 5.873761477204198e-10\n"
     ]
    },
    {
     "name": "stderr",
     "output_type": "stream",
     "text": [
      "100%|████████████████████████████████████████████████████████████████████████████████| 625/625 [00:09<00:00, 69.01it/s]\n"
     ]
    },
    {
     "name": "stdout",
     "output_type": "stream",
     "text": [
      "Epoch 88; total error: 1.0864769137697294e-05, average: 1.7383630535050543e-08\n"
     ]
    },
    {
     "name": "stderr",
     "output_type": "stream",
     "text": [
      "100%|████████████████████████████████████████████████████████████████████████████████| 625/625 [00:08<00:00, 71.32it/s]\n"
     ]
    },
    {
     "name": "stdout",
     "output_type": "stream",
     "text": [
      "Epoch 89; total error: 1.0413441486889496e-05, average: 1.6661505952697553e-08\n"
     ]
    },
    {
     "name": "stderr",
     "output_type": "stream",
     "text": [
      "100%|████████████████████████████████████████████████████████████████████████████████| 625/625 [00:08<00:00, 70.48it/s]\n"
     ]
    },
    {
     "name": "stdout",
     "output_type": "stream",
     "text": [
      "Epoch 90; total error: 3.452671307968558e-06, average: 5.524273927193235e-09\n"
     ]
    },
    {
     "name": "stderr",
     "output_type": "stream",
     "text": [
      "100%|████████████████████████████████████████████████████████████████████████████████| 625/625 [00:08<00:00, 70.55it/s]\n"
     ]
    },
    {
     "name": "stdout",
     "output_type": "stream",
     "text": [
      "Epoch 91; total error: 6.3691832110635005e-06, average: 1.0190692734113327e-08\n"
     ]
    },
    {
     "name": "stderr",
     "output_type": "stream",
     "text": [
      "100%|████████████████████████████████████████████████████████████████████████████████| 625/625 [00:08<00:00, 70.34it/s]\n"
     ]
    },
    {
     "name": "stdout",
     "output_type": "stream",
     "text": [
      "Epoch 92; total error: 9.480259905103594e-06, average: 1.5168415856692263e-08\n"
     ]
    },
    {
     "name": "stderr",
     "output_type": "stream",
     "text": [
      "100%|████████████████████████████████████████████████████████████████████████████████| 625/625 [00:09<00:00, 69.05it/s]\n"
     ]
    },
    {
     "name": "stdout",
     "output_type": "stream",
     "text": [
      "Epoch 93; total error: 1.104106104321545e-06, average: 1.7665697793489699e-09\n"
     ]
    },
    {
     "name": "stderr",
     "output_type": "stream",
     "text": [
      "100%|████████████████████████████████████████████████████████████████████████████████| 625/625 [00:08<00:00, 73.01it/s]\n"
     ]
    },
    {
     "name": "stdout",
     "output_type": "stream",
     "text": [
      "Epoch 94; total error: 1.0549593753239606e-05, average: 1.6879349473697403e-08\n"
     ]
    },
    {
     "name": "stderr",
     "output_type": "stream",
     "text": [
      "100%|████████████████████████████████████████████████████████████████████████████████| 625/625 [00:09<00:00, 68.77it/s]\n"
     ]
    },
    {
     "name": "stdout",
     "output_type": "stream",
     "text": [
      "Epoch 95; total error: 1.0076464604935609e-05, average: 1.612234257208911e-08\n"
     ]
    },
    {
     "name": "stderr",
     "output_type": "stream",
     "text": [
      "100%|████████████████████████████████████████████████████████████████████████████████| 625/625 [00:09<00:00, 68.76it/s]\n"
     ]
    },
    {
     "name": "stdout",
     "output_type": "stream",
     "text": [
      "Epoch 96; total error: 3.023300223503611e-07, average: 4.837280576097669e-10\n"
     ]
    },
    {
     "name": "stderr",
     "output_type": "stream",
     "text": [
      "100%|████████████████████████████████████████████████████████████████████████████████| 625/625 [00:08<00:00, 70.71it/s]\n"
     ]
    },
    {
     "name": "stdout",
     "output_type": "stream",
     "text": [
      "Epoch 97; total error: 8.7444295786554e-06, average: 1.3991087399745084e-08\n"
     ]
    },
    {
     "name": "stderr",
     "output_type": "stream",
     "text": [
      "100%|████████████████████████████████████████████████████████████████████████████████| 625/625 [00:08<00:00, 70.69it/s]\n"
     ]
    },
    {
     "name": "stdout",
     "output_type": "stream",
     "text": [
      "Epoch 98; total error: 1.3035785741521977e-05, average: 2.0857257254647266e-08\n"
     ]
    },
    {
     "name": "stderr",
     "output_type": "stream",
     "text": [
      "100%|████████████████████████████████████████████████████████████████████████████████| 625/625 [00:08<00:00, 70.04it/s]"
     ]
    },
    {
     "name": "stdout",
     "output_type": "stream",
     "text": [
      "Epoch 99; total error: 5.050282652518945e-06, average: 8.080451863179405e-09\n"
     ]
    },
    {
     "name": "stderr",
     "output_type": "stream",
     "text": [
      "\n"
     ]
    }
   ],
   "source": [
    "optimizer = Adam(model.parameters(), lr=1e-4)\n",
    "epochs = 100\n",
    "for i in range(epochs):\n",
    "    error = 0\n",
    "    steps = 0\n",
    "    for batch in tqdm(loader, total=len(loader)):\n",
    "        x, y = batch\n",
    "        optimizer.zero_grad()\n",
    "        out = model(x)\n",
    "        loss = F.mse_loss(out, y)\n",
    "        loss.backward()\n",
    "        optimizer.step()\n",
    "        error += loss.detach()\n",
    "        steps += 1\n",
    "    print(f'Epoch {i}; total error: {error}, average: {error/steps}')"
   ]
  },
  {
   "cell_type": "markdown",
   "id": "be0ea520",
   "metadata": {},
   "source": [
    "We verify that this minimalist architecture is just applicable to larger (100 thousand) portion of never-seen randomly generated examples."
   ]
  },
  {
   "cell_type": "code",
   "execution_count": 9,
   "id": "718b8fcb",
   "metadata": {},
   "outputs": [
    {
     "name": "stderr",
     "output_type": "stream",
     "text": [
      "100%|█████████████████████████████████████████████████████████████████████████████| 1563/1563 [00:09<00:00, 165.52it/s]"
     ]
    },
    {
     "name": "stdout",
     "output_type": "stream",
     "text": [
      "Test epoch; total error: 5.057370966454755e-09, average: 3.23568190470358e-12\n"
     ]
    },
    {
     "name": "stderr",
     "output_type": "stream",
     "text": [
      "\n"
     ]
    }
   ],
   "source": [
    "# Create a bigger test set\n",
    "gradU = (torch.rand(900000).reshape(-1, 3, 3)*2)-1\n",
    "#gradU = (torch.rand(9000000).reshape(-1, 3, 3))\n",
    "# Compute S and R\n",
    "S = (gradU + gradU.transpose(2, 1))/2 # S = (gradU + gradU.T)/2\n",
    "R = (gradU - gradU.transpose(2, 1))/2 # R = (gradU - gradU.T)/2\n",
    "\n",
    "# Get T(9) through symbolic computation\n",
    "Ssq = torch.einsum('bij, bjk -> bik', S, S) # b is the batch dimension for the matrix multiplication ij, jk -> ik\n",
    "Rsq = torch.einsum('bij, bjk -> bik', R, R)\n",
    "RsqSsq = torch.einsum('bij, bjk -> bik', Rsq, Ssq)\n",
    "SsqRsq = torch.einsum('bij, bjk -> bik', Ssq, Rsq)\n",
    "trSsqRsq = torch.einsum('bij, bij -> b', SsqRsq, SsqRsq)\n",
    "T9 = RsqSsq + RsqSsq - (torch.eye(3)[None, :, :] * trSsqRsq[:, None, None])\n",
    "\n",
    "test_loader = DataLoader(TensorDataset(gradU, T9), batch_size=64)\n",
    "\n",
    "model.eval()\n",
    "error = 0\n",
    "steps = 0\n",
    "trues = []\n",
    "preds = []\n",
    "for batch in tqdm(test_loader, total=len(test_loader)):\n",
    "    x, y = batch\n",
    "    out = model(x)\n",
    "    loss = F.mse_loss(out, y)\n",
    "    error += loss.detach()\n",
    "    steps += 1\n",
    "    # let's also express the testing error in terms of r^2 - for that \n",
    "    trues.append(y.reshape(-1))\n",
    "    preds.append(out.detach().reshape(-1))\n",
    "trues = torch.cat(trues)\n",
    "preds = torch.cat(preds)\n",
    "print(f'Test epoch; total error: {error}, average: {error/steps}')"
   ]
  },
  {
   "cell_type": "code",
   "execution_count": 13,
   "id": "a0db22d2",
   "metadata": {},
   "outputs": [
    {
     "name": "stdout",
     "output_type": "stream",
     "text": [
      "1.0\n"
     ]
    }
   ],
   "source": [
    "def r2_score(y_true, y_pred):\n",
    "    ss_res = torch.sum((y_true - y_pred) ** 2)\n",
    "    y_true_mean = torch.mean(y_true)\n",
    "    ss_tot = torch.sum((y_true - y_true_mean) ** 2)\n",
    "    r2 = 1 - ss_res / ss_tot\n",
    "    return r2.item()\n",
    "print(np.array(r2_score(trues, preds)))"
   ]
  },
  {
   "cell_type": "code",
   "execution_count": null,
   "id": "e2ff5c7e",
   "metadata": {},
   "outputs": [],
   "source": [
    "sum(p.numel() for p in model.parameters())"
   ]
  },
  {
   "cell_type": "code",
   "execution_count": null,
   "id": "7f549c04",
   "metadata": {},
   "outputs": [],
   "source": [
    "def e3_operations(x_sym, x_asym):\n",
    "    x1 = model.tp1(x_sym, x_sym)\n",
    "    x1a = model.tp1a(x_asym, x_asym)\n",
    "    x2 = model.tp2(x1, x1a)\n",
    "    x2a = model.tp2a(x1, x1a)\n",
    "    x2tr = model.tp3(x2, x2a)\n",
    "    out = model.lin(torch.cat([x2, x2a, x2tr], dim=1))\n",
    "    return out\n",
    "\n",
    "from e3nn.util.test import equivariance_error\n",
    "model.eval()\n",
    "for batch in test_loader:\n",
    "    x, y = batch\n",
    "    err = equivariance_error(\n",
    "        e3_operations,\n",
    "        args_in=[model.sct.from_cartesian(x, rtp=model.srtp), model.act.from_cartesian(x, rtp=model.artp)],\n",
    "        irreps_in=['0e + 2e', '1e'],\n",
    "        irreps_out=['0e + 1e + 2e']\n",
    "    )\n",
    "    break\n",
    "print(err)"
   ]
  },
  {
   "cell_type": "code",
   "execution_count": null,
   "id": "f178809f",
   "metadata": {},
   "outputs": [],
   "source": []
  }
 ],
 "metadata": {
  "kernelspec": {
   "display_name": "Python 3 (ipykernel)",
   "language": "python",
   "name": "python3"
  },
  "language_info": {
   "codemirror_mode": {
    "name": "ipython",
    "version": 3
   },
   "file_extension": ".py",
   "mimetype": "text/x-python",
   "name": "python",
   "nbconvert_exporter": "python",
   "pygments_lexer": "ipython3",
   "version": "3.8.10"
  }
 },
 "nbformat": 4,
 "nbformat_minor": 5
}
